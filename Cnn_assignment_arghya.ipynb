{
  "nbformat": 4,
  "nbformat_minor": 0,
  "metadata": {
    "colab": {
      "provenance": []
    },
    "kernelspec": {
      "name": "python3",
      "display_name": "Python 3"
    },
    "language_info": {
      "name": "python"
    }
  },
  "cells": [
    {
      "cell_type": "code",
      "execution_count": null,
      "metadata": {
        "id": "PsEk9TXXFu8Z"
      },
      "outputs": [],
      "source": [
        "import numpy as np\n",
        "import tensorflow as tf\n",
        "from tensorflow import keras\n",
        "from keras.models import Sequential\n",
        "import pandas as pd\n",
        "from matplotlib import pyplot as plt\n",
        "%matplotlib inline\n",
        "import os\n",
        "import cv2\n",
        "from keras.layers import Dense, Conv2D, MaxPooling2D, Flatten,GlobalAveragePooling2D\n",
        "from PIL import Image\n",
        "from sklearn.preprocessing import LabelEncoder\n",
        "from sklearn.metrics import confusion_matrix, classification_report"
      ]
    },
    {
      "cell_type": "code",
      "source": [
        "from google.colab import drive\n",
        "drive.mount('/content/drive')"
      ],
      "metadata": {
        "colab": {
          "base_uri": "https://localhost:8080/"
        },
        "id": "K5_CeT45OBiQ",
        "outputId": "dec10e6a-ad76-4f3f-b031-ea949a58d16d"
      },
      "execution_count": null,
      "outputs": [
        {
          "output_type": "stream",
          "name": "stdout",
          "text": [
            "Mounted at /content/drive\n"
          ]
        }
      ]
    },
    {
      "cell_type": "code",
      "source": [
        "# Define the paths to your image and csv folders\n",
        "train_val_test= \"/content/drive/MyDrive/ML/train_val\"   \n",
        "test = \"/content/drive/MyDrive/ML/test\"\n",
        "train_path_csv = \"/content/drive/MyDrive/ML/train_val.csv\"\n",
        "train_val_csv = pd.read_csv(train_path_csv)"
      ],
      "metadata": {
        "id": "0IF3XgAeGDQ6"
      },
      "execution_count": null,
      "outputs": []
    },
    {
      "cell_type": "code",
      "source": [
        "# load training dataset in numpy array\n",
        "images = []\n",
        "labels = []\n",
        "for filename in os.listdir(train_val_test):\n",
        "  if filename.endswith('.png'):\n",
        "    # Load the images and resize them to (128, 128) with 3 color channels\n",
        "    img = cv2.imread(os.path.join(train_val_test, filename))\n",
        "    img = cv2.resize(img, (128, 128))\n",
        "    img = cv2.cvtColor(img, cv2.COLOR_BGR2RGB)\n",
        "    # img = Image.open(os.path.join(train_val, filename))\n",
        "    img_array = np.array(img)\n",
        "    # Append the array to the list of images\n",
        "    images.append(img_array)\n",
        "    labels.append(filename)\n",
        "    "
      ],
      "metadata": {
        "id": "6ynlissUG4jW"
      },
      "execution_count": null,
      "outputs": []
    },
    {
      "cell_type": "code",
      "source": [
        "# Convert the string labels to numerical labels\n",
        "le = LabelEncoder()\n",
        "labels = le.fit_transform(labels)\n",
        "# Convert the lists to NumPy arrays\n",
        "images = np.array(images)\n",
        "labels = np.array(labels)\n",
        "# Save the arrays in NumPy format\n",
        "np.save('x_train.npy', images)\n",
        "np.save('y_train.npy', labels)\n",
        "x_train = np.load('x_train.npy')\n",
        "y_train = np.load('y_train.npy')\n",
        "x_train.shape"
      ],
      "metadata": {
        "colab": {
          "base_uri": "https://localhost:8080/"
        },
        "id": "XlvDTJv5LtNN",
        "outputId": "4eab3afe-07a8-4693-adba-c6f0536a7e0f"
      },
      "execution_count": null,
      "outputs": [
        {
          "output_type": "execute_result",
          "data": {
            "text/plain": [
              "(1000, 128, 128, 3)"
            ]
          },
          "metadata": {},
          "execution_count": 18
        }
      ]
    },
    {
      "cell_type": "code",
      "source": [
        "x_train[:5]\n",
        "y_train[:5]"
      ],
      "metadata": {
        "colab": {
          "base_uri": "https://localhost:8080/"
        },
        "id": "C0MSLu9yPvvn",
        "outputId": "f1130f6b-9770-48c1-ddec-bd5a738b87bf"
      },
      "execution_count": null,
      "outputs": [
        {
          "output_type": "execute_result",
          "data": {
            "text/plain": [
              "array([135, 113, 223,  90,  79])"
            ]
          },
          "metadata": {},
          "execution_count": 19
        }
      ]
    },
    {
      "cell_type": "code",
      "source": [
        "# load test dataset in numpy array\n",
        "images = []\n",
        "labels = []\n",
        "for filename in os.listdir(test):\n",
        "  if filename.endswith('.png'):\n",
        "    # Load the images and resize them to (128, 128) with 3 color channels\n",
        "    img = cv2.imread(os.path.join(test, filename))\n",
        "    img = cv2.resize(img, (128, 128))\n",
        "    img = cv2.cvtColor(img, cv2.COLOR_BGR2RGB)\n",
        "    # img = Image.open(os.path.join(test, filename))\n",
        "    img_array = np.array(img)\n",
        "    # Append the array to the list of images\n",
        "    images.append(img_array)\n",
        "    labels.append(filename)\n",
        "\n",
        "# Convert the string labels to numerical labels\n",
        "le = LabelEncoder()\n",
        "labels = le.fit_transform(labels)\n",
        "# Convert the lists to NumPy arrays\n",
        "images = np.array(images)\n",
        "labels = np.array(labels)\n",
        "# Save the arrays in NumPy format\n",
        "np.save('x_test.npy', images)\n",
        "np.save('y_test.npy', labels)\n",
        "x_test = np.load('x_test.npy')\n",
        "y_test = np.load('y_test.npy')\n",
        "x_test.shape"
      ],
      "metadata": {
        "colab": {
          "base_uri": "https://localhost:8080/"
        },
        "id": "DUIkFsvRP3tC",
        "outputId": "d6149b40-3323-4ebd-a000-f3b3552fa31a"
      },
      "execution_count": null,
      "outputs": [
        {
          "output_type": "execute_result",
          "data": {
            "text/plain": [
              "(50, 128, 128, 3)"
            ]
          },
          "metadata": {},
          "execution_count": 21
        }
      ]
    },
    {
      "cell_type": "code",
      "source": [
        "# check the images loaded\n",
        "plt.figure(figsize = (10,2))\n",
        "plt.imshow(x_train[10])\n",
        "plt.imshow(x_train[208])\n",
        "plt.imshow(x_train[444])"
      ],
      "metadata": {
        "colab": {
          "base_uri": "https://localhost:8080/",
          "height": 236
        },
        "id": "7N2292-8QKgD",
        "outputId": "8bb5e0c6-7579-4234-d4e1-35dce16ed2f8"
      },
      "execution_count": null,
      "outputs": [
        {
          "output_type": "execute_result",
          "data": {
            "text/plain": [
              "<matplotlib.image.AxesImage at 0x7fdc22773c40>"
            ]
          },
          "metadata": {},
          "execution_count": 22
        },
        {
          "output_type": "display_data",
          "data": {
            "text/plain": [
              "<Figure size 1000x200 with 1 Axes>"
            ],
            "image/png": "[encoded data removed]"
          },
          "metadata": {}
        }
      ]
    },
    {
      "cell_type": "code",
      "source": [
        "# define some classes from the images we have observed\n",
        "image_classes = ['line', 'dot_line', 'hbar_categorical', 'vbar_categorical', 'pie']\n",
        "image_classes[0]\n",
        "# map the categories to the labels array i.e y_train\n",
        "label_map = {'line': 0, 'dot_line': 1, 'hbar_categorical': 2, 'vbar_categorical': 3, 'pie': 4}\n",
        "y_train = np.array([label_map[label] for label in train_val_csv['type']])\n",
        "y_train\n",
        "y_train.shape\n",
        "y_test.shape"
      ],
      "metadata": {
        "colab": {
          "base_uri": "https://localhost:8080/"
        },
        "id": "b6y64EXeQndG",
        "outputId": "059295af-4663-41be-b8b9-e32bd3d80456"
      },
      "execution_count": null,
      "outputs": [
        {
          "output_type": "execute_result",
          "data": {
            "text/plain": [
              "(50,)"
            ]
          },
          "metadata": {},
          "execution_count": 23
        }
      ]
    },
    {
      "cell_type": "code",
      "source": [
        "# we need to map the lables from csv to the images somehow\n",
        "# function to test the chart sample\n",
        "def image_sample(x, y, index):\n",
        "  plt.figure(figsize = (10,2))\n",
        "  plt.imshow(x[index])\n",
        "  # image_label = train_val_csv.iloc[index]['type']\n",
        "  # plt.xlabel(image_label)\n",
        "  plt.xlabel(image_classes[y[index]])"
      ],
      "metadata": {
        "id": "56jAVYqLQvAP"
      },
      "execution_count": null,
      "outputs": []
    },
    {
      "cell_type": "code",
      "source": [
        "image_sample(x_train,y_train,0)\n",
        "image_sample(x_train,y_train,208)\n",
        "image_sample(x_train,y_train,444)"
      ],
      "metadata": {
        "colab": {
          "base_uri": "https://localhost:8080/",
          "height": 683
        },
        "id": "tdRm91OZQyOL",
        "outputId": "dcd03f0c-b15c-4f47-bef7-3346b49f1b6c"
      },
      "execution_count": null,
      "outputs": [
        {
          "output_type": "display_data",
          "data": {
            "text/plain": [
              "<Figure size 1000x200 with 1 Axes>"
            ],
            "image/png": "[encoded data removed]"
          },
          "metadata": {}
        },
        {
          "output_type": "display_data",
          "data": {
            "text/plain": [
              "<Figure size 1000x200 with 1 Axes>"
            ],
            "image/png": "[encoded data removed]"
          },
          "metadata": {}
        },
        {
          "output_type": "display_data",
          "data": {
            "text/plain": [
              "<Figure size 1000x200 with 1 Axes>"
            ],
            "image/png": "[encoded data removed]"
          },
          "metadata": {}
        }
      ]
    },
    {
      "cell_type": "code",
      "source": [
        "# now we have mapped the corresponding labels to the image\n",
        "# normalize the image\n",
        "# x_train[0]/255\n",
        "x_train=x_train /255\n",
        "x_test=x_train /255"
      ],
      "metadata": {
        "id": "S2UD-6SuQ8qL"
      },
      "execution_count": null,
      "outputs": []
    },
    {
      "cell_type": "code",
      "source": [
        "x_test.shape"
      ],
      "metadata": {
        "colab": {
          "base_uri": "https://localhost:8080/"
        },
        "id": "MTT5TsuJRE-1",
        "outputId": "040120fc-8856-4b9e-8b76-9d6de188aaa7"
      },
      "execution_count": null,
      "outputs": [
        {
          "output_type": "execute_result",
          "data": {
            "text/plain": [
              "(1000, 128, 128, 3)"
            ]
          },
          "metadata": {},
          "execution_count": 28
        }
      ]
    },
    {
      "cell_type": "code",
      "source": [
        "# take the label for train data from csv file\n",
        "y_train_index = train_val_csv['image_index']\n",
        "y_train_type = train_val_csv['type']"
      ],
      "metadata": {
        "id": "47M9QlUQRMD2"
      },
      "execution_count": null,
      "outputs": []
    },
    {
      "cell_type": "code",
      "source": [
        "y_train_type[:5]"
      ],
      "metadata": {
        "colab": {
          "base_uri": "https://localhost:8080/"
        },
        "id": "zIOd6W7QRPLg",
        "outputId": "655174f4-8751-4e63-85a0-11d49a13c267"
      },
      "execution_count": null,
      "outputs": [
        {
          "output_type": "execute_result",
          "data": {
            "text/plain": [
              "0    vbar_categorical\n",
              "1    vbar_categorical\n",
              "2    vbar_categorical\n",
              "3    vbar_categorical\n",
              "4    vbar_categorical\n",
              "Name: type, dtype: object"
            ]
          },
          "metadata": {},
          "execution_count": 30
        }
      ]
    },
    {
      "cell_type": "code",
      "source": [
        "# writing a simple nn to test first\n",
        "# Define the model architecture\n",
        "model = Sequential([\n",
        "Flatten(input_shape=(128,128,3)),\n",
        "Dense(3000, activation='relu'),\n",
        "Dense(1000, activation='relu'),\n",
        "Dense(5, activation='softmax')\n",
        "])"
      ],
      "metadata": {
        "id": "OgP5cFqQRRjO"
      },
      "execution_count": null,
      "outputs": []
    },
    {
      "cell_type": "code",
      "source": [
        "# Compile the model\n",
        "model.compile(optimizer='SGD', loss='sparse_categorical_crossentropy', metrics=['accuracy'])\n",
        "model.fit(x_train,y_train,epochs=10)"
      ],
      "metadata": {
        "colab": {
          "base_uri": "https://localhost:8080/"
        },
        "id": "6VwikIW5RU9l",
        "outputId": "f004abd9-0722-4054-b66c-b3449ce92235"
      },
      "execution_count": null,
      "outputs": [
        {
          "output_type": "stream",
          "name": "stdout",
          "text": [
            "Epoch 1/10\n",
            "32/32 [==============================] - 40s 1s/step - loss: 7.2434 - accuracy: 0.2140\n",
            "Epoch 2/10\n",
            "32/32 [==============================] - 41s 1s/step - loss: 1.6323 - accuracy: 0.2000\n",
            "Epoch 3/10\n",
            "32/32 [==============================] - 34s 1s/step - loss: 1.6143 - accuracy: 0.2070\n",
            "Epoch 4/10\n",
            "32/32 [==============================] - 34s 1s/step - loss: 1.6160 - accuracy: 0.1990\n",
            "Epoch 5/10\n",
            "32/32 [==============================] - 34s 1s/step - loss: 1.6128 - accuracy: 0.2190\n",
            "Epoch 6/10\n",
            "32/32 [==============================] - 34s 1s/step - loss: 1.6077 - accuracy: 0.2250\n",
            "Epoch 7/10\n",
            "32/32 [==============================] - 32s 996ms/step - loss: 1.6110 - accuracy: 0.1990\n",
            "Epoch 8/10\n",
            "32/32 [==============================] - 44s 1s/step - loss: 1.6058 - accuracy: 0.2170\n",
            "Epoch 9/10\n",
            "32/32 [==============================] - 34s 1s/step - loss: 1.6062 - accuracy: 0.2200\n",
            "Epoch 10/10\n",
            "32/32 [==============================] - 32s 1s/step - loss: 1.6073 - accuracy: 0.2250\n"
          ]
        },
        {
          "output_type": "execute_result",
          "data": {
            "text/plain": [
              "<keras.callbacks.History at 0x7fdc1f863dc0>"
            ]
          },
          "metadata": {},
          "execution_count": 32
        }
      ]
    },
    {
      "cell_type": "code",
      "source": [
        "# Split the training images and labels into training and validation sets\n",
        "from sklearn.model_selection import train_test_split\n",
        "x_train, x_test, y_train, y_test = train_test_split(x_train, y_train, test_size=0.2, random_state=42)"
      ],
      "metadata": {
        "id": "IvHr7TR0RafA"
      },
      "execution_count": null,
      "outputs": []
    },
    {
      "cell_type": "code",
      "source": [
        "model.evaluate(x_test,y_test)"
      ],
      "metadata": {
        "colab": {
          "base_uri": "https://localhost:8080/"
        },
        "id": "Q_qP3M0GSbFz",
        "outputId": "fd253566-36f2-4f6a-9a0b-31d2ab51a0a3"
      },
      "execution_count": null,
      "outputs": [
        {
          "output_type": "stream",
          "name": "stdout",
          "text": [
            "7/7 [==============================] - 3s 302ms/step - loss: 1.5928 - accuracy: 0.2250\n"
          ]
        },
        {
          "output_type": "execute_result",
          "data": {
            "text/plain": [
              "[1.592767357826233, 0.22499999403953552]"
            ]
          },
          "metadata": {},
          "execution_count": 34
        }
      ]
    },
    {
      "cell_type": "code",
      "source": [
        "y_pred = model.predict(x_test)\n",
        "y_pred\n",
        "y_pred_classes = [np.argmax(ele) for ele in y_pred]\n",
        "# print(\"classificaton report : \\n\",classification_report(y_test,y_pred_classes))"
      ],
      "metadata": {
        "colab": {
          "base_uri": "https://localhost:8080/"
        },
        "id": "TJRZsv8ESbnL",
        "outputId": "c92f2c83-2361-4231-ef08-90224035bee3"
      },
      "execution_count": null,
      "outputs": [
        {
          "output_type": "stream",
          "name": "stdout",
          "text": [
            "7/7 [==============================] - 4s 506ms/step\n"
          ]
        }
      ]
    },
    {
      "cell_type": "code",
      "source": [
        "# here we see the accuracy is very low and we need to modify our nn to add more layers for better accuracy\n",
        "# Print the shapes of the arrays to verify that they loaded correctly\n",
        "print(\"Train Images Shape:\", x_train.shape)\n",
        "print(\"Train Labels Shape:\", y_train.shape)\n",
        "print(\"Test Images Shape:\", x_test.shape)\n",
        "print(\"Test Labels Shape:\", y_test.shape)"
      ],
      "metadata": {
        "colab": {
          "base_uri": "https://localhost:8080/"
        },
        "id": "4VagjdB9Se-_",
        "outputId": "fe7d42d4-59ec-4bf3-d953-7a9d5926a39a"
      },
      "execution_count": null,
      "outputs": [
        {
          "output_type": "stream",
          "name": "stdout",
          "text": [
            "Train Images Shape: (800, 128, 128, 3)\n",
            "Train Labels Shape: (800,)\n",
            "Test Images Shape: (200, 128, 128, 3)\n",
            "Test Labels Shape: (200,)\n"
          ]
        }
      ]
    },
    {
      "cell_type": "code",
      "source": [
        "# modify the model architecture to cmnn\n",
        "cnn_model = Sequential([\n",
        "Conv2D(filters=16 ,kernel_size=(3,3), activation='relu', input_shape=(128,128,3)),\n",
        "MaxPooling2D(pool_size=(2,2)),\n",
        "Conv2D(32, (3,3), activation='relu'),\n",
        "MaxPooling2D(pool_size=(2,2)),\n",
        "Conv2D(64, (3,3), activation='relu'),MaxPooling2D(pool_size=(2,2)),\n",
        "Flatten(),\n",
        "Dense(128, activation='relu'),\n",
        "Dense(5, activation='softmax')\n",
        "])"
      ],
      "metadata": {
        "id": "ccUdT_cGWyKq"
      },
      "execution_count": null,
      "outputs": []
    },
    {
      "cell_type": "code",
      "source": [
        "# Compile the model\n",
        "cnn_model.compile(optimizer='adam', loss='sparse_categorical_crossentropy', metrics=['accuracy'])\n",
        "# Train the model\n",
        "history = cnn_model.fit(x_train, y_train, batch_size=1000, epochs=50,validation_data=(x_test, y_test))\n",
        "# Plot the obtained loss\n",
        "plt.plot(history.history['loss'])\n",
        "plt.plot(history.history['val_loss'])\n",
        "plt.title('Model Loss')\n",
        "plt.ylabel('Loss')\n",
        "plt.xlabel('Epoch')\n",
        "plt.legend(['Train', 'Validation'], loc='upper right')\n",
        "plt.show()"
      ],
      "metadata": {
        "colab": {
          "base_uri": "https://localhost:8080/",
          "height": 2173
        },
        "id": "TcqMvxNsW9Ki",
        "outputId": "4cc558fb-0837-4e7c-e8d8-7d5ea0809290"
      },
      "execution_count": null,
      "outputs": [
        {
          "output_type": "stream",
          "name": "stdout",
          "text": [
            "Epoch 1/50\n",
            "1/1 [==============================] - 20s 20s/step - loss: 1.6450 - accuracy: 0.2163 - val_loss: 3.3858 - val_accuracy: 0.1650\n",
            "Epoch 2/50\n",
            "1/1 [==============================] - 18s 18s/step - loss: 3.1944 - accuracy: 0.2087 - val_loss: 1.9569 - val_accuracy: 0.1900\n",
            "Epoch 3/50\n",
            "1/1 [==============================] - 15s 15s/step - loss: 1.8919 - accuracy: 0.2025 - val_loss: 1.6500 - val_accuracy: 0.1900\n",
            "Epoch 4/50\n",
            "1/1 [==============================] - 19s 19s/step - loss: 1.6396 - accuracy: 0.2025 - val_loss: 1.6095 - val_accuracy: 0.1900\n",
            "Epoch 5/50\n",
            "1/1 [==============================] - 16s 16s/step - loss: 1.6063 - accuracy: 0.2050 - val_loss: 1.6001 - val_accuracy: 0.1850\n",
            "Epoch 6/50\n",
            "1/1 [==============================] - 16s 16s/step - loss: 1.5967 - accuracy: 0.2075 - val_loss: 1.5963 - val_accuracy: 0.1850\n",
            "Epoch 7/50\n",
            "1/1 [==============================] - 16s 16s/step - loss: 1.5910 - accuracy: 0.2100 - val_loss: 1.5894 - val_accuracy: 0.2700\n",
            "Epoch 8/50\n",
            "1/1 [==============================] - 17s 17s/step - loss: 1.5807 - accuracy: 0.3275 - val_loss: 1.5791 - val_accuracy: 0.2450\n",
            "Epoch 9/50\n",
            "1/1 [==============================] - 16s 16s/step - loss: 1.5651 - accuracy: 0.3438 - val_loss: 1.5729 - val_accuracy: 0.2350\n",
            "Epoch 10/50\n",
            "1/1 [==============================] - 16s 16s/step - loss: 1.5487 - accuracy: 0.3137 - val_loss: 1.5598 - val_accuracy: 0.2600\n",
            "Epoch 11/50\n",
            "1/1 [==============================] - 17s 17s/step - loss: 1.5256 - accuracy: 0.3137 - val_loss: 1.5418 - val_accuracy: 0.2800\n",
            "Epoch 12/50\n",
            "1/1 [==============================] - 17s 17s/step - loss: 1.5018 - accuracy: 0.3638 - val_loss: 1.5191 - val_accuracy: 0.2850\n",
            "Epoch 13/50\n",
            "1/1 [==============================] - 15s 15s/step - loss: 1.4721 - accuracy: 0.3613 - val_loss: 1.4979 - val_accuracy: 0.2850\n",
            "Epoch 14/50\n",
            "1/1 [==============================] - 15s 15s/step - loss: 1.4436 - accuracy: 0.3675 - val_loss: 1.4683 - val_accuracy: 0.3750\n",
            "Epoch 15/50\n",
            "1/1 [==============================] - 15s 15s/step - loss: 1.4057 - accuracy: 0.4225 - val_loss: 1.4447 - val_accuracy: 0.3700\n",
            "Epoch 16/50\n",
            "1/1 [==============================] - 15s 15s/step - loss: 1.3660 - accuracy: 0.4437 - val_loss: 1.4335 - val_accuracy: 0.3650\n",
            "Epoch 17/50\n",
            "1/1 [==============================] - 15s 15s/step - loss: 1.3304 - accuracy: 0.4462 - val_loss: 1.4008 - val_accuracy: 0.4150\n",
            "Epoch 18/50\n",
            "1/1 [==============================] - 15s 15s/step - loss: 1.2907 - accuracy: 0.4913 - val_loss: 1.3892 - val_accuracy: 0.4050\n",
            "Epoch 19/50\n",
            "1/1 [==============================] - 17s 17s/step - loss: 1.2604 - accuracy: 0.4900 - val_loss: 1.3601 - val_accuracy: 0.4350\n",
            "Epoch 20/50\n",
            "1/1 [==============================] - 22s 22s/step - loss: 1.2191 - accuracy: 0.5050 - val_loss: 1.3590 - val_accuracy: 0.4250\n",
            "Epoch 21/50\n",
            "1/1 [==============================] - 19s 19s/step - loss: 1.1835 - accuracy: 0.5125 - val_loss: 1.3376 - val_accuracy: 0.4300\n",
            "Epoch 22/50\n",
            "1/1 [==============================] - 18s 18s/step - loss: 1.1451 - accuracy: 0.5188 - val_loss: 1.3345 - val_accuracy: 0.4200\n",
            "Epoch 23/50\n",
            "1/1 [==============================] - 16s 16s/step - loss: 1.1138 - accuracy: 0.5188 - val_loss: 1.3562 - val_accuracy: 0.4300\n",
            "Epoch 24/50\n",
            "1/1 [==============================] - 21s 21s/step - loss: 1.0870 - accuracy: 0.5225 - val_loss: 1.3413 - val_accuracy: 0.4000\n",
            "Epoch 25/50\n",
            "1/1 [==============================] - 24s 24s/step - loss: 1.0639 - accuracy: 0.5300 - val_loss: 1.4184 - val_accuracy: 0.4150\n",
            "Epoch 26/50\n",
            "1/1 [==============================] - 19s 19s/step - loss: 1.0590 - accuracy: 0.5813 - val_loss: 1.3725 - val_accuracy: 0.4400\n",
            "Epoch 27/50\n",
            "1/1 [==============================] - 29s 29s/step - loss: 1.0779 - accuracy: 0.5288 - val_loss: 1.4230 - val_accuracy: 0.3750\n",
            "Epoch 28/50\n",
            "1/1 [==============================] - 16s 16s/step - loss: 1.0595 - accuracy: 0.5125 - val_loss: 1.4436 - val_accuracy: 0.3600\n",
            "Epoch 29/50\n",
            "1/1 [==============================] - 15s 15s/step - loss: 1.0262 - accuracy: 0.5462 - val_loss: 1.3985 - val_accuracy: 0.4000\n",
            "Epoch 30/50\n",
            "1/1 [==============================] - 15s 15s/step - loss: 1.0037 - accuracy: 0.5487 - val_loss: 1.3210 - val_accuracy: 0.4400\n",
            "Epoch 31/50\n",
            "1/1 [==============================] - 15s 15s/step - loss: 0.9864 - accuracy: 0.5500 - val_loss: 1.3355 - val_accuracy: 0.4350\n",
            "Epoch 32/50\n",
            "1/1 [==============================] - 18s 18s/step - loss: 0.9680 - accuracy: 0.5562 - val_loss: 1.3824 - val_accuracy: 0.4200\n",
            "Epoch 33/50\n",
            "1/1 [==============================] - 16s 16s/step - loss: 0.9412 - accuracy: 0.5800 - val_loss: 1.4162 - val_accuracy: 0.4000\n",
            "Epoch 34/50\n",
            "1/1 [==============================] - 17s 17s/step - loss: 0.9421 - accuracy: 0.6062 - val_loss: 1.3545 - val_accuracy: 0.4200\n",
            "Epoch 35/50\n",
            "1/1 [==============================] - 15s 15s/step - loss: 0.9094 - accuracy: 0.6187 - val_loss: 1.3101 - val_accuracy: 0.4400\n",
            "Epoch 36/50\n",
            "1/1 [==============================] - 18s 18s/step - loss: 0.8993 - accuracy: 0.6137 - val_loss: 1.3322 - val_accuracy: 0.4200\n",
            "Epoch 37/50\n",
            "1/1 [==============================] - 16s 16s/step - loss: 0.8931 - accuracy: 0.5938 - val_loss: 1.3645 - val_accuracy: 0.4500\n",
            "Epoch 38/50\n",
            "1/1 [==============================] - 21s 21s/step - loss: 0.8684 - accuracy: 0.6500 - val_loss: 1.3891 - val_accuracy: 0.4550\n",
            "Epoch 39/50\n",
            "1/1 [==============================] - 15s 15s/step - loss: 0.8581 - accuracy: 0.6712 - val_loss: 1.3786 - val_accuracy: 0.4400\n",
            "Epoch 40/50\n",
            "1/1 [==============================] - 17s 17s/step - loss: 0.8464 - accuracy: 0.6675 - val_loss: 1.3436 - val_accuracy: 0.4400\n",
            "Epoch 41/50\n",
            "1/1 [==============================] - 15s 15s/step - loss: 0.8281 - accuracy: 0.6625 - val_loss: 1.3274 - val_accuracy: 0.4550\n",
            "Epoch 42/50\n",
            "1/1 [==============================] - 17s 17s/step - loss: 0.8169 - accuracy: 0.6600 - val_loss: 1.3604 - val_accuracy: 0.4600\n",
            "Epoch 43/50\n",
            "1/1 [==============================] - 15s 15s/step - loss: 0.7996 - accuracy: 0.6787 - val_loss: 1.3846 - val_accuracy: 0.4850\n",
            "Epoch 44/50\n",
            "1/1 [==============================] - 16s 16s/step - loss: 0.7886 - accuracy: 0.6888 - val_loss: 1.3760 - val_accuracy: 0.4650\n",
            "Epoch 45/50\n",
            "1/1 [==============================] - 15s 15s/step - loss: 0.7751 - accuracy: 0.6938 - val_loss: 1.3614 - val_accuracy: 0.4550\n",
            "Epoch 46/50\n",
            "1/1 [==============================] - 17s 17s/step - loss: 0.7584 - accuracy: 0.6913 - val_loss: 1.3679 - val_accuracy: 0.4500\n",
            "Epoch 47/50\n",
            "1/1 [==============================] - 15s 15s/step - loss: 0.7461 - accuracy: 0.6963 - val_loss: 1.4143 - val_accuracy: 0.4550\n",
            "Epoch 48/50\n",
            "1/1 [==============================] - 18s 18s/step - loss: 0.7323 - accuracy: 0.6913 - val_loss: 1.4154 - val_accuracy: 0.4650\n",
            "Epoch 49/50\n",
            "1/1 [==============================] - 15s 15s/step - loss: 0.7244 - accuracy: 0.7100 - val_loss: 1.4842 - val_accuracy: 0.4550\n",
            "Epoch 50/50\n",
            "1/1 [==============================] - 15s 15s/step - loss: 0.7454 - accuracy: 0.6925 - val_loss: 1.4708 - val_accuracy: 0.4100\n"
          ]
        },
        {
          "output_type": "display_data",
          "data": {
            "text/plain": [
              "<Figure size 640x480 with 1 Axes>"
            ],
            "image/png": "[encoded data removed]"
          },
          "metadata": {}
        }
      ]
    },
    {
      "cell_type": "code",
      "source": [
        "cnn_model.evaluate(x_test,y_test)"
      ],
      "metadata": {
        "colab": {
          "base_uri": "https://localhost:8080/"
        },
        "id": "38jI7N22XEnN",
        "outputId": "371ed7e0-c02c-449d-b12c-bf01361d3182"
      },
      "execution_count": null,
      "outputs": [
        {
          "output_type": "stream",
          "name": "stdout",
          "text": [
            "7/7 [==============================] - 1s 117ms/step - loss: 1.4708 - accuracy: 0.4100\n"
          ]
        },
        {
          "output_type": "execute_result",
          "data": {
            "text/plain": [
              "[1.4708105325698853, 0.4099999964237213]"
            ]
          },
          "metadata": {},
          "execution_count": 39
        }
      ]
    },
    {
      "cell_type": "code",
      "source": [
        "image_sample(x_test,y_test,1)\n",
        "image_sample(x_test,y_test,50)\n",
        "image_sample(x_test,y_test,25)\n",
        "image_sample(x_test,y_test,30)"
      ],
      "metadata": {
        "colab": {
          "base_uri": "https://localhost:8080/",
          "height": 905
        },
        "id": "7YBFKa5YYP2-",
        "outputId": "dd6ecf53-2d4c-4df9-d1ae-541b2f02d12b"
      },
      "execution_count": null,
      "outputs": [
        {
          "output_type": "display_data",
          "data": {
            "text/plain": [
              "<Figure size 1000x200 with 1 Axes>"
            ],
            "image/png": "[encoded data removed]"
          },
          "metadata": {}
        },
        {
          "output_type": "display_data",
          "data": {
            "text/plain": [
              "<Figure size 1000x200 with 1 Axes>"
            ],
            "image/png": "[encoded data removed]"
          },
          "metadata": {}
        },
        {
          "output_type": "display_data",
          "data": {
            "text/plain": [
              "<Figure size 1000x200 with 1 Axes>"
            ],
            "image/png": "[encoded data removed]"
          },
          "metadata": {}
        },
        {
          "output_type": "display_data",
          "data": {
            "text/plain": [
              "<Figure size 1000x200 with 1 Axes>"
            ],
            "image/png": "[encoded data removed]"
          },
          "metadata": {}
        }
      ]
    },
    {
      "cell_type": "code",
      "source": [
        "# Observation: we can see some wrong predictions\n",
        "y_pred = cnn_model.predict(x_test)\n",
        "y_pred[:5]\n",
        "y_classes = [np.argmax(element) for element in y_pred]\n",
        "y_classes[:5]\n",
        "y_test[:5]\n"
      ],
      "metadata": {
        "colab": {
          "base_uri": "https://localhost:8080/"
        },
        "id": "QZrmEVUiYTFp",
        "outputId": "6941bf6d-11d0-4b45-88ee-f5aebbc5750e"
      },
      "execution_count": null,
      "outputs": [
        {
          "output_type": "stream",
          "name": "stdout",
          "text": [
            "7/7 [==============================] - 1s 117ms/step\n"
          ]
        },
        {
          "output_type": "execute_result",
          "data": {
            "text/plain": [
              "array([0, 4, 4, 4, 0])"
            ]
          },
          "metadata": {},
          "execution_count": 41
        }
      ]
    },
    {
      "cell_type": "code",
      "source": [
        "# here we see some values are not matching\n",
        "# test actual and predicted\n",
        "# image_sample(x_test,y_test,1) #actual\n",
        "# image_classes[y_classes[1]] #predicted\n",
        "# image_sample(x_test,y_test,10) #actual\n",
        "# image_classes[y_classes[10]] #predicted\n",
        "image_sample(x_test,y_test,15) #actual\n",
        "image_classes[y_classes[15]] #predicted"
      ],
      "metadata": {
        "colab": {
          "base_uri": "https://localhost:8080/",
          "height": 258
        },
        "id": "HS_GPS8KYccT",
        "outputId": "14699ae3-6d32-4540-c18d-17e868c38dc8"
      },
      "execution_count": null,
      "outputs": [
        {
          "output_type": "execute_result",
          "data": {
            "text/plain": [
              "'pie'"
            ],
            "application/vnd.google.colaboratory.intrinsic+json": {
              "type": "string"
            }
          },
          "metadata": {},
          "execution_count": 42
        },
        {
          "output_type": "display_data",
          "data": {
            "text/plain": [
              "<Figure size 1000x200 with 1 Axes>"
            ],
            "image/png": "[encoded data removed]"
          },
          "metadata": {}
        }
      ]
    },
    {
      "cell_type": "code",
      "source": [
        "# some values are not matching\n",
        "print(\"classification report: \\n\", classification_report(y_test,y_classes))"
      ],
      "metadata": {
        "colab": {
          "base_uri": "https://localhost:8080/"
        },
        "id": "jbq4yEQmYdgx",
        "outputId": "239c17f3-d31b-41a1-aef9-f57e0e15b3c2"
      },
      "execution_count": null,
      "outputs": [
        {
          "output_type": "stream",
          "name": "stdout",
          "text": [
            "classification report: \n",
            "               precision    recall  f1-score   support\n",
            "\n",
            "           0       0.28      0.70      0.40        37\n",
            "           1       0.75      0.20      0.32        44\n",
            "           2       0.45      0.35      0.40        48\n",
            "           3       0.59      0.52      0.55        33\n",
            "           4       0.46      0.34      0.39        38\n",
            "\n",
            "    accuracy                           0.41       200\n",
            "   macro avg       0.51      0.42      0.41       200\n",
            "weighted avg       0.51      0.41      0.40       200\n",
            "\n"
          ]
        }
      ]
    },
    {
      "cell_type": "code",
      "source": [
        "# Generate the confusion matrix\n",
        "conf_mat = confusion_matrix(y_test, y_classes)\n",
        "print('Confusion Matrix:')\n",
        "print(conf_mat)\n"
      ],
      "metadata": {
        "colab": {
          "base_uri": "https://localhost:8080/"
        },
        "id": "X0tjWe6GYhjf",
        "outputId": "d95e7ced-206b-4fa0-f9dd-8d57d295a20b"
      },
      "execution_count": null,
      "outputs": [
        {
          "output_type": "stream",
          "name": "stdout",
          "text": [
            "Confusion Matrix:\n",
            "[[26  0  2  1  8]\n",
            " [24  9  3  1  7]\n",
            " [21  0 17 10  0]\n",
            " [ 1  0 15 17  0]\n",
            " [21  3  1  0 13]]\n"
          ]
        }
      ]
    },
    {
      "cell_type": "code",
      "source": [
        "# Plot the confusion matrix\n",
        "import seaborn as sn\n",
        "plt.figure(figsize = (10,10))\n",
        "sn.heatmap(conf_mat,annot=True,fmt='d')\n",
        "plt.xlabel('Predicted')\n",
        "plt.ylabel('Actual')\n"
      ],
      "metadata": {
        "colab": {
          "base_uri": "https://localhost:8080/",
          "height": 867
        },
        "id": "pJt3K1suYlcT",
        "outputId": "7a6bcc83-bc0a-48b9-c4bd-e6648f7ea257"
      },
      "execution_count": null,
      "outputs": [
        {
          "output_type": "execute_result",
          "data": {
            "text/plain": [
              "Text(95.72222222222221, 0.5, 'Actual')"
            ]
          },
          "metadata": {},
          "execution_count": 45
        },
        {
          "output_type": "display_data",
          "data": {
            "text/plain": [
              "<Figure size 1000x1000 with 2 Axes>"
            ],
            "image/png": "[encoded data removed]"
          },
          "metadata": {}
        }
      ]
    },
    {
      "cell_type": "code",
      "source": [
        "# for 50 iterations, we can see some promising accuracy, more training will be required for better accuracy\n",
        "# in the confusion matrix, whatever is not in diagonal is a error\n",
        "from tensorflow.keras.applications import VGG16\n",
        "from tensorflow.keras.preprocessing.image import ImageDataGenerator\n",
        "# Load the pre-trained model\n",
        "vgg16_model = VGG16(weights='imagenet', include_top=False, input_shape=(224, 224, 3))"
      ],
      "metadata": {
        "colab": {
          "base_uri": "https://localhost:8080/"
        },
        "id": "jTx6Fzk4Yopc",
        "outputId": "4965e974-4146-4fa3-9ec2-90ef3d8dc1a1"
      },
      "execution_count": null,
      "outputs": [
        {
          "output_type": "stream",
          "name": "stdout",
          "text": [
            "Downloading data from https://storage.googleapis.com/tensorflow/keras-applications/vgg16/vgg16_weights_tf_dim_ordering_tf_kernels_notop.h5\n",
            "58889256/58889256 [==============================] - 2s 0us/step\n"
          ]
        }
      ]
    },
    {
      "cell_type": "code",
      "source": [
        "# Replace the final classification layer with a new layer\n",
        "x = vgg16_model.output\n",
        "x = GlobalAveragePooling2D()(x)\n",
        "x = Dense(128, activation='relu')(x)\n",
        "predictions = Dense(5, activation='softmax')(x)\n",
        "pt_model = tf.keras.Model(inputs=vgg16_model.input, outputs=predictions)"
      ],
      "metadata": {
        "id": "z19OIfixYsHP"
      },
      "execution_count": null,
      "outputs": []
    },
    {
      "cell_type": "code",
      "source": [
        "# Freeze the weights of all layers except the new classification layer\n",
        "for layer in pt_model.layers:\n",
        "  layer.trainable = False"
      ],
      "metadata": {
        "id": "DYNRjUz2Y0HS"
      },
      "execution_count": null,
      "outputs": []
    },
    {
      "cell_type": "code",
      "source": [
        "# Compile the model with categorical crossentropy loss and Adam optimizer\n",
        "pt_model.compile(loss='categorical_crossentropy', optimizer='adam', metrics=['accuracy'])"
      ],
      "metadata": {
        "id": "6A0SLJmHjJeL"
      },
      "execution_count": null,
      "outputs": []
    },
    {
      "cell_type": "code",
      "source": [
        "# Print the summary of the model architecture\n",
        "pt_model.summary()"
      ],
      "metadata": {
        "colab": {
          "base_uri": "https://localhost:8080/"
        },
        "id": "BIluxN7BjMOI",
        "outputId": "e6d83fae-343d-47a0-f9d6-ee17bc01c7ad"
      },
      "execution_count": null,
      "outputs": [
        {
          "output_type": "stream",
          "name": "stdout",
          "text": [
            "Model: \"model_3\"\n",
            "_________________________________________________________________\n",
            " Layer (type)                Output Shape              Param #   \n",
            "=================================================================\n",
            " input_1 (InputLayer)        [(None, 224, 224, 3)]     0         \n",
            "                                                                 \n",
            " block1_conv1 (Conv2D)       (None, 224, 224, 64)      1792      \n",
            "                                                                 \n",
            " block1_conv2 (Conv2D)       (None, 224, 224, 64)      36928     \n",
            "                                                                 \n",
            " block1_pool (MaxPooling2D)  (None, 112, 112, 64)      0         \n",
            "                                                                 \n",
            " block2_conv1 (Conv2D)       (None, 112, 112, 128)     73856     \n",
            "                                                                 \n",
            " block2_conv2 (Conv2D)       (None, 112, 112, 128)     147584    \n",
            "                                                                 \n",
            " block2_pool (MaxPooling2D)  (None, 56, 56, 128)       0         \n",
            "                                                                 \n",
            " block3_conv1 (Conv2D)       (None, 56, 56, 256)       295168    \n",
            "                                                                 \n",
            " block3_conv2 (Conv2D)       (None, 56, 56, 256)       590080    \n",
            "                                                                 \n",
            " block3_conv3 (Conv2D)       (None, 56, 56, 256)       590080    \n",
            "                                                                 \n",
            " block3_pool (MaxPooling2D)  (None, 28, 28, 256)       0         \n",
            "                                                                 \n",
            " block4_conv1 (Conv2D)       (None, 28, 28, 512)       1180160   \n",
            "                                                                 \n",
            " block4_conv2 (Conv2D)       (None, 28, 28, 512)       2359808   \n",
            "                                                                 \n",
            " block4_conv3 (Conv2D)       (None, 28, 28, 512)       2359808   \n",
            "                                                                 \n",
            " block4_pool (MaxPooling2D)  (None, 14, 14, 512)       0         \n",
            "                                                                 \n",
            " block5_conv1 (Conv2D)       (None, 14, 14, 512)       2359808   \n",
            "                                                                 \n",
            " block5_conv2 (Conv2D)       (None, 14, 14, 512)       2359808   \n",
            "                                                                 \n",
            " block5_conv3 (Conv2D)       (None, 14, 14, 512)       2359808   \n",
            "                                                                 \n",
            " block5_pool (MaxPooling2D)  (None, 7, 7, 512)         0         \n",
            "                                                                 \n",
            " global_average_pooling2d_3   (None, 512)              0         \n",
            " (GlobalAveragePooling2D)                                        \n",
            "                                                                 \n",
            " dense_11 (Dense)            (None, 128)               65664     \n",
            "                                                                 \n",
            " dense_12 (Dense)            (None, 5)                 645       \n",
            "                                                                 \n",
            "=================================================================\n",
            "Total params: 14,780,997\n",
            "Trainable params: 0\n",
            "Non-trainable params: 14,780,997\n",
            "_________________________________________________________________\n"
          ]
        }
      ]
    },
    {
      "cell_type": "code",
      "source": [
        "# Set up data generators for image augmentation and feeding data to the model\n",
        "train_datagen = ImageDataGenerator(\n",
        "rescale=1./255,\n",
        "rotation_range=20,\n",
        "width_shift_range=0.2,\n",
        "height_shift_range=0.2,\n",
        "shear_range=0.2,\n",
        "zoom_range=0.2,\n",
        "horizontal_flip=True,\n",
        "fill_mode='nearest')\n",
        "test_datagen = ImageDataGenerator(rescale=1./255)"
      ],
      "metadata": {
        "id": "4USpOBoKjPH4"
      },
      "execution_count": null,
      "outputs": []
    },
    {
      "cell_type": "code",
      "source": [
        "# flow method generates batches of augmented data\n",
        "train_generator = train_datagen.flow(x_train, y_train, batch_size=32)\n",
        "test_generator = train_datagen.flow(x_test, y_test, batch_size=32)"
      ],
      "metadata": {
        "id": "nDxca-cPjTH4"
      },
      "execution_count": null,
      "outputs": []
    },
    {
      "cell_type": "code",
      "source": [
        "# Train the model with early stopping\n",
        "from tensorflow.keras.callbacks import EarlyStopping"
      ],
      "metadata": {
        "id": "hcl-eKeGjV9e"
      },
      "execution_count": null,
      "outputs": []
    },
    {
      "cell_type": "code",
      "source": [
        "es = EarlyStopping(monitor='val_loss', patience=10, verbose=1, mode='min', restore_best_weights=True)"
      ],
      "metadata": {
        "id": "6cY-beO3jYQU"
      },
      "execution_count": null,
      "outputs": []
    },
    {
      "cell_type": "code",
      "source": [
        "history = pt_model.fit(train_generator, epochs=100, validation_data=test_generator, callbacks=[es])"
      ],
      "metadata": {
        "id": "LupPebgBj0Ud"
      },
      "execution_count": null,
      "outputs": []
    },
    {
      "cell_type": "code",
      "source": [
        "!jupyter nbconvert --to html /content/Cnn_assignment_arghya.ipynb"
      ],
      "metadata": {
        "colab": {
          "base_uri": "https://localhost:8080/"
        },
        "id": "3hxBlhKpnRMf",
        "outputId": "0646cf93-aa8b-44ce-eeeb-a664c8af2f6e"
      },
      "execution_count": null,
      "outputs": [
        {
          "output_type": "stream",
          "name": "stdout",
          "text": [
            "[NbConvertApp] WARNING | pattern '/content/Cnn_assignment_arghya.ipynb' matched no files\n",
            "This application is used to convert notebook files (*.ipynb)\n",
            "        to various other formats.\n",
            "\n",
            "        WARNING: THE COMMANDLINE INTERFACE MAY CHANGE IN FUTURE RELEASES.\n",
            "\n",
            "Options\n",
            "=======\n",
            "The options below are convenience aliases to configurable class-options,\n",
            "as listed in the \"Equivalent to\" description-line of the aliases.\n",
            "To see all configurable class-options for some <cmd>, use:\n",
            "    <cmd> --help-all\n",
            "\n",
            "--debug\n",
            "    set log level to logging.DEBUG (maximize logging output)\n",
            "    Equivalent to: [--Application.log_level=10]\n",
            "--show-config\n",
            "    Show the application's configuration (human-readable format)\n",
            "    Equivalent to: [--Application.show_config=True]\n",
            "--show-config-json\n",
            "    Show the application's configuration (json format)\n",
            "    Equivalent to: [--Application.show_config_json=True]\n",
            "--generate-config\n",
            "    generate default config file\n",
            "    Equivalent to: [--JupyterApp.generate_config=True]\n",
            "-y\n",
            "    Answer yes to any questions instead of prompting.\n",
            "    Equivalent to: [--JupyterApp.answer_yes=True]\n",
            "--execute\n",
            "    Execute the notebook prior to export.\n",
            "    Equivalent to: [--ExecutePreprocessor.enabled=True]\n",
            "--allow-errors\n",
            "    Continue notebook execution even if one of the cells throws an error and include the error message in the cell output (the default behaviour is to abort conversion). This flag is only relevant if '--execute' was specified, too.\n",
            "    Equivalent to: [--ExecutePreprocessor.allow_errors=True]\n",
            "--stdin\n",
            "    read a single notebook file from stdin. Write the resulting notebook with default basename 'notebook.*'\n",
            "    Equivalent to: [--NbConvertApp.from_stdin=True]\n",
            "--stdout\n",
            "    Write notebook output to stdout instead of files.\n",
            "    Equivalent to: [--NbConvertApp.writer_class=StdoutWriter]\n",
            "--inplace\n",
            "    Run nbconvert in place, overwriting the existing notebook (only\n",
            "            relevant when converting to notebook format)\n",
            "    Equivalent to: [--NbConvertApp.use_output_suffix=False --NbConvertApp.export_format=notebook --FilesWriter.build_directory=]\n",
            "--clear-output\n",
            "    Clear output of current file and save in place,\n",
            "            overwriting the existing notebook.\n",
            "    Equivalent to: [--NbConvertApp.use_output_suffix=False --NbConvertApp.export_format=notebook --FilesWriter.build_directory= --ClearOutputPreprocessor.enabled=True]\n",
            "--no-prompt\n",
            "    Exclude input and output prompts from converted document.\n",
            "    Equivalent to: [--TemplateExporter.exclude_input_prompt=True --TemplateExporter.exclude_output_prompt=True]\n",
            "--no-input\n",
            "    Exclude input cells and output prompts from converted document.\n",
            "            This mode is ideal for generating code-free reports.\n",
            "    Equivalent to: [--TemplateExporter.exclude_output_prompt=True --TemplateExporter.exclude_input=True --TemplateExporter.exclude_input_prompt=True]\n",
            "--allow-chromium-download\n",
            "    Whether to allow downloading chromium if no suitable version is found on the system.\n",
            "    Equivalent to: [--WebPDFExporter.allow_chromium_download=True]\n",
            "--disable-chromium-sandbox\n",
            "    Disable chromium security sandbox when converting to PDF..\n",
            "    Equivalent to: [--WebPDFExporter.disable_sandbox=True]\n",
            "--show-input\n",
            "    Shows code input. This flag is only useful for dejavu users.\n",
            "    Equivalent to: [--TemplateExporter.exclude_input=False]\n",
            "--embed-images\n",
            "    Embed the images as base64 dataurls in the output. This flag is only useful for the HTML/WebPDF/Slides exports.\n",
            "    Equivalent to: [--HTMLExporter.embed_images=True]\n",
            "--sanitize-html\n",
            "    Whether the HTML in Markdown cells and cell outputs should be sanitized..\n",
            "    Equivalent to: [--HTMLExporter.sanitize_html=True]\n",
            "--log-level=<Enum>\n",
            "    Set the log level by value or name.\n",
            "    Choices: any of [0, 10, 20, 30, 40, 50, 'DEBUG', 'INFO', 'WARN', 'ERROR', 'CRITICAL']\n",
            "    Default: 30\n",
            "    Equivalent to: [--Application.log_level]\n",
            "--config=<Unicode>\n",
            "    Full path of a config file.\n",
            "    Default: ''\n",
            "    Equivalent to: [--JupyterApp.config_file]\n",
            "--to=<Unicode>\n",
            "    The export format to be used, either one of the built-in formats\n",
            "            ['asciidoc', 'custom', 'html', 'latex', 'markdown', 'notebook', 'pdf', 'python', 'rst', 'script', 'slides', 'webpdf']\n",
            "            or a dotted object name that represents the import path for an\n",
            "            ``Exporter`` class\n",
            "    Default: ''\n",
            "    Equivalent to: [--NbConvertApp.export_format]\n",
            "--template=<Unicode>\n",
            "    Name of the template to use\n",
            "    Default: ''\n",
            "    Equivalent to: [--TemplateExporter.template_name]\n",
            "--template-file=<Unicode>\n",
            "    Name of the template file to use\n",
            "    Default: None\n",
            "    Equivalent to: [--TemplateExporter.template_file]\n",
            "--theme=<Unicode>\n",
            "    Template specific theme(e.g. the name of a JupyterLab CSS theme distributed\n",
            "    as prebuilt extension for the lab template)\n",
            "    Default: 'light'\n",
            "    Equivalent to: [--HTMLExporter.theme]\n",
            "--sanitize_html=<Bool>\n",
            "    Whether the HTML in Markdown cells and cell outputs should be sanitized.This\n",
            "    should be set to True by nbviewer or similar tools.\n",
            "    Default: False\n",
            "    Equivalent to: [--HTMLExporter.sanitize_html]\n",
            "--writer=<DottedObjectName>\n",
            "    Writer class used to write the\n",
            "                                        results of the conversion\n",
            "    Default: 'FilesWriter'\n",
            "    Equivalent to: [--NbConvertApp.writer_class]\n",
            "--post=<DottedOrNone>\n",
            "    PostProcessor class used to write the\n",
            "                                        results of the conversion\n",
            "    Default: ''\n",
            "    Equivalent to: [--NbConvertApp.postprocessor_class]\n",
            "--output=<Unicode>\n",
            "    overwrite base name use for output files.\n",
            "                can only be used when converting one notebook at a time.\n",
            "    Default: ''\n",
            "    Equivalent to: [--NbConvertApp.output_base]\n",
            "--output-dir=<Unicode>\n",
            "    Directory to write output(s) to. Defaults\n",
            "                                  to output to the directory of each notebook. To recover\n",
            "                                  previous default behaviour (outputting to the current\n",
            "                                  working directory) use . as the flag value.\n",
            "    Default: ''\n",
            "    Equivalent to: [--FilesWriter.build_directory]\n",
            "--reveal-prefix=<Unicode>\n",
            "    The URL prefix for reveal.js (version 3.x).\n",
            "            This defaults to the reveal CDN, but can be any url pointing to a copy\n",
            "            of reveal.js.\n",
            "            For speaker notes to work, this must be a relative path to a local\n",
            "            copy of reveal.js: e.g., \"reveal.js\".\n",
            "            If a relative path is given, it must be a subdirectory of the\n",
            "            current directory (from which the server is run).\n",
            "            See the usage documentation\n",
            "            (https://nbconvert.readthedocs.io/en/latest/usage.html#reveal-js-html-slideshow)\n",
            "            for more details.\n",
            "    Default: ''\n",
            "    Equivalent to: [--SlidesExporter.reveal_url_prefix]\n",
            "--nbformat=<Enum>\n",
            "    The nbformat version to write.\n",
            "            Use this to downgrade notebooks.\n",
            "    Choices: any of [1, 2, 3, 4]\n",
            "    Default: 4\n",
            "    Equivalent to: [--NotebookExporter.nbformat_version]\n",
            "\n",
            "Examples\n",
            "--------\n",
            "\n",
            "    The simplest way to use nbconvert is\n",
            "\n",
            "            > jupyter nbconvert mynotebook.ipynb --to html\n",
            "\n",
            "            Options include ['asciidoc', 'custom', 'html', 'latex', 'markdown', 'notebook', 'pdf', 'python', 'rst', 'script', 'slides', 'webpdf'].\n",
            "\n",
            "            > jupyter nbconvert --to latex mynotebook.ipynb\n",
            "\n",
            "            Both HTML and LaTeX support multiple output templates. LaTeX includes\n",
            "            'base', 'article' and 'report'.  HTML includes 'basic', 'lab' and\n",
            "            'classic'. You can specify the flavor of the format used.\n",
            "\n",
            "            > jupyter nbconvert --to html --template lab mynotebook.ipynb\n",
            "\n",
            "            You can also pipe the output to stdout, rather than a file\n",
            "\n",
            "            > jupyter nbconvert mynotebook.ipynb --stdout\n",
            "\n",
            "            PDF is generated via latex\n",
            "\n",
            "            > jupyter nbconvert mynotebook.ipynb --to pdf\n",
            "\n",
            "            You can get (and serve) a Reveal.js-powered slideshow\n",
            "\n",
            "            > jupyter nbconvert myslides.ipynb --to slides --post serve\n",
            "\n",
            "            Multiple notebooks can be given at the command line in a couple of\n",
            "            different ways:\n",
            "\n",
            "            > jupyter nbconvert notebook*.ipynb\n",
            "            > jupyter nbconvert notebook1.ipynb notebook2.ipynb\n",
            "\n",
            "            or you can specify the notebooks list in a config file, containing::\n",
            "\n",
            "                c.NbConvertApp.notebooks = [\"my_notebook.ipynb\"]\n",
            "\n",
            "            > jupyter nbconvert --config mycfg.py\n",
            "\n",
            "To see all available configurables, use `--help-all`.\n",
            "\n"
          ]
        }
      ]
    },
    {
      "cell_type": "code",
      "source": [],
      "metadata": {
        "id": "QmGl4YuznciV"
      },
      "execution_count": null,
      "outputs": []
    }
  ]
}