{
  "nbformat": 4,
  "nbformat_minor": 0,
  "metadata": {
    "colab": {
      "provenance": []
    },
    "kernelspec": {
      "name": "python3",
      "display_name": "Python 3"
    },
    "language_info": {
      "name": "python"
    }
  },
  "cells": [
    {
      "cell_type": "code",
      "execution_count": 1,
      "metadata": {
        "id": "FkfgM6kiuTeY"
      },
      "outputs": [],
      "source": [
        "import numpy as np\n",
        "import tensorflow as tf\n",
        "from tensorflow import keras\n",
        "import pandas as pd\n",
        "from matplotlib import pyplot as plt\n",
        "%matplotlib inline\n",
        "import os\n",
        "import cv2"
      ]
    },
    {
      "cell_type": "code",
      "source": [
        "from google.colab import drive\n",
        "drive.mount('/content/drive')"
      ],
      "metadata": {
        "colab": {
          "base_uri": "https://localhost:8080/"
        },
        "id": "Uk7fhGaGuaKb",
        "outputId": "44dad5f7-00ea-4d79-bd68-530411febc8d"
      },
      "execution_count": 2,
      "outputs": [
        {
          "output_type": "stream",
          "name": "stdout",
          "text": [
            "Mounted at /content/drive\n"
          ]
        }
      ]
    },
    {
      "cell_type": "code",
      "source": [
        "train = '/content/drive/MyDrive/Gurnum/train'"
      ],
      "metadata": {
        "id": "S-ZTQOsGuuxv"
      },
      "execution_count": 6,
      "outputs": []
    },
    {
      "cell_type": "code",
      "source": [
        "val ='/content/drive/MyDrive/Gurnum/val'"
      ],
      "metadata": {
        "id": "QqYn4e96vCbQ"
      },
      "execution_count": 7,
      "outputs": []
    },
    {
      "cell_type": "code",
      "source": [
        "# Set the path to the folder containing the 'train' folder\n",
        "data_dir = train\n",
        "# Set the image size\n",
        "img_size = (32, 32)\n",
        "# Create empty lists for the images and labels\n",
        "images = []\n",
        "labels = []\n",
        "# Loop over each folder from '0' to '9'\n",
        "for label in range(10):\n",
        "    folder_path = os.path.join(data_dir, str(label))\n",
        "    print(folder_path)\n",
        "    # Loop over each image in the folder\n",
        "    for file in os.listdir(folder_path):\n",
        "        file_path = os.path.join(folder_path, file)\n",
        "        if file_path.endswith(('.tiff','.bmp')):\n",
        "           # Load the image and resize it to the desired size\n",
        "           img = cv2.imread(file_path, cv2.IMREAD_GRAYSCALE)\n",
        "           img = cv2.resize(img, img_size)\n",
        "           # Append the image and label to the lists\n",
        "           images.append(img)\n",
        "           labels.append(label)"
      ],
      "metadata": {
        "colab": {
          "base_uri": "https://localhost:8080/"
        },
        "id": "j82YQmPi2Ipe",
        "outputId": "29c440b7-b053-43b0-b79e-31c876727d7d"
      },
      "execution_count": 9,
      "outputs": [
        {
          "output_type": "stream",
          "name": "stdout",
          "text": [
            "/content/drive/MyDrive/Gurnum/train/0\n",
            "/content/drive/MyDrive/Gurnum/train/1\n",
            "/content/drive/MyDrive/Gurnum/train/2\n",
            "/content/drive/MyDrive/Gurnum/train/3\n",
            "/content/drive/MyDrive/Gurnum/train/4\n",
            "/content/drive/MyDrive/Gurnum/train/5\n",
            "/content/drive/MyDrive/Gurnum/train/6\n",
            "/content/drive/MyDrive/Gurnum/train/7\n",
            "/content/drive/MyDrive/Gurnum/train/8\n",
            "/content/drive/MyDrive/Gurnum/train/9\n"
          ]
        }
      ]
    },
    {
      "cell_type": "code",
      "source": [
        "# Convert the lists to NumPy arrays\n",
        "images = np.array(images)\n",
        "labels = np.array(labels)\n",
        "\n",
        "# Save the arrays in NumPy format\n",
        "np.save('x_train.npy', images)\n",
        "np.save('y_train.npy', labels)"
      ],
      "metadata": {
        "id": "GXO0QAJz5jh-"
      },
      "execution_count": 10,
      "outputs": []
    },
    {
      "cell_type": "code",
      "source": [
        "# Set the path to the folder containing the 'val' folder\n",
        "data_dir_val = val\n",
        "# Set the image size\n",
        "img_size_val = (32, 32)\n",
        "# Create empty lists for the images and labels\n",
        "images_val = []\n",
        "labels_val = []\n",
        "# Loop over each folder from '0' to '9'\n",
        "for label in range(10):\n",
        "    folder_path = os.path.join(data_dir_val,str(label))\n",
        "    # Loop over each image in the folder\n",
        "    for file in os.listdir(folder_path):\n",
        "        file_path = os.path.join(folder_path, file)\n",
        "        if file_path.endswith(('.tiff','.bmp')):\n",
        "            # Load the image and resize it to the desired size\n",
        "            img = cv2.imread(file_path, cv2.IMREAD_GRAYSCALE)\n",
        "            img = cv2.resize(img, img_size_val)\n",
        "            # Append the image and label to the lists\n",
        "            images_val.append(img)\n",
        "            labels_val.append(label)\n",
        "\n",
        "# Convert the lists to NumPy arrays\n",
        "images_val = np.array(images_val)\n",
        "labels_val = np.array(labels_val)\n",
        "# Save the arrays in NumPy format\n",
        "np.save('x_test.npy', images_val)\n",
        "np.save('y_test.npy', labels_val)"
      ],
      "metadata": {
        "id": "Qdyb6IA9BaXd"
      },
      "execution_count": 11,
      "outputs": []
    },
    {
      "cell_type": "code",
      "source": [
        "# Load the dataset\n",
        "x_train = np.load('x_train.npy')\n",
        "y_train = np.load('y_train.npy')\n",
        "x_test = np.load('x_test.npy')\n",
        "y_test = np.load('y_test.npy')"
      ],
      "metadata": {
        "id": "09DA7RlaBh1Z"
      },
      "execution_count": 12,
      "outputs": []
    },
    {
      "cell_type": "code",
      "source": [
        "# test the images are loaded correctly\n",
        "print(len(x_train))\n",
        "print(len(x_test))\n",
        "x_train[0].shape\n",
        "x_train[0]\n",
        "plt.matshow(x_train[0])\n",
        "plt.matshow(x_train[999])\n",
        "print(x_train.shape)\n",
        "print(x_test.shape)\n",
        "y_train"
      ],
      "metadata": {
        "colab": {
          "base_uri": "https://localhost:8080/",
          "height": 1000
        },
        "id": "V2n9Qan2BkZ8",
        "outputId": "9d7726dc-87d8-4329-c353-1efc9f160f91"
      },
      "execution_count": 13,
      "outputs": [
        {
          "output_type": "stream",
          "name": "stdout",
          "text": [
            "1000\n",
            "178\n",
            "(1000, 32, 32)\n",
            "(178, 32, 32)\n"
          ]
        },
        {
          "output_type": "execute_result",
          "data": {
            "text/plain": [
              "array([0, 0, 0, 0, 0, 0, 0, 0, 0, 0, 0, 0, 0, 0, 0, 0, 0, 0, 0, 0, 0, 0,\n",
              "       0, 0, 0, 0, 0, 0, 0, 0, 0, 0, 0, 0, 0, 0, 0, 0, 0, 0, 0, 0, 0, 0,\n",
              "       0, 0, 0, 0, 0, 0, 0, 0, 0, 0, 0, 0, 0, 0, 0, 0, 0, 0, 0, 0, 0, 0,\n",
              "       0, 0, 0, 0, 0, 0, 0, 0, 0, 0, 0, 0, 0, 0, 0, 0, 0, 0, 0, 0, 0, 0,\n",
              "       0, 0, 0, 0, 0, 0, 0, 0, 0, 0, 0, 0, 1, 1, 1, 1, 1, 1, 1, 1, 1, 1,\n",
              "       1, 1, 1, 1, 1, 1, 1, 1, 1, 1, 1, 1, 1, 1, 1, 1, 1, 1, 1, 1, 1, 1,\n",
              "       1, 1, 1, 1, 1, 1, 1, 1, 1, 1, 1, 1, 1, 1, 1, 1, 1, 1, 1, 1, 1, 1,\n",
              "       1, 1, 1, 1, 1, 1, 1, 1, 1, 1, 1, 1, 1, 1, 1, 1, 1, 1, 1, 1, 1, 1,\n",
              "       1, 1, 1, 1, 1, 1, 1, 1, 1, 1, 1, 1, 1, 1, 1, 1, 1, 1, 1, 1, 1, 1,\n",
              "       1, 1, 2, 2, 2, 2, 2, 2, 2, 2, 2, 2, 2, 2, 2, 2, 2, 2, 2, 2, 2, 2,\n",
              "       2, 2, 2, 2, 2, 2, 2, 2, 2, 2, 2, 2, 2, 2, 2, 2, 2, 2, 2, 2, 2, 2,\n",
              "       2, 2, 2, 2, 2, 2, 2, 2, 2, 2, 2, 2, 2, 2, 2, 2, 2, 2, 2, 2, 2, 2,\n",
              "       2, 2, 2, 2, 2, 2, 2, 2, 2, 2, 2, 2, 2, 2, 2, 2, 2, 2, 2, 2, 2, 2,\n",
              "       2, 2, 2, 2, 2, 2, 2, 2, 2, 2, 2, 2, 2, 2, 3, 3, 3, 3, 3, 3, 3, 3,\n",
              "       3, 3, 3, 3, 3, 3, 3, 3, 3, 3, 3, 3, 3, 3, 3, 3, 3, 3, 3, 3, 3, 3,\n",
              "       3, 3, 3, 3, 3, 3, 3, 3, 3, 3, 3, 3, 3, 3, 3, 3, 3, 3, 3, 3, 3, 3,\n",
              "       3, 3, 3, 3, 3, 3, 3, 3, 3, 3, 3, 3, 3, 3, 3, 3, 3, 3, 3, 3, 3, 3,\n",
              "       3, 3, 3, 3, 3, 3, 3, 3, 3, 3, 3, 3, 3, 3, 3, 3, 3, 3, 3, 3, 3, 3,\n",
              "       3, 3, 3, 3, 4, 4, 4, 4, 4, 4, 4, 4, 4, 4, 4, 4, 4, 4, 4, 4, 4, 4,\n",
              "       4, 4, 4, 4, 4, 4, 4, 4, 4, 4, 4, 4, 4, 4, 4, 4, 4, 4, 4, 4, 4, 4,\n",
              "       4, 4, 4, 4, 4, 4, 4, 4, 4, 4, 4, 4, 4, 4, 4, 4, 4, 4, 4, 4, 4, 4,\n",
              "       4, 4, 4, 4, 4, 4, 4, 4, 4, 4, 4, 4, 4, 4, 4, 4, 4, 4, 4, 4, 4, 4,\n",
              "       4, 4, 4, 4, 4, 4, 4, 4, 4, 4, 4, 4, 4, 4, 4, 4, 5, 5, 5, 5, 5, 5,\n",
              "       5, 5, 5, 5, 5, 5, 5, 5, 5, 5, 5, 5, 5, 5, 5, 5, 5, 5, 5, 5, 5, 5,\n",
              "       5, 5, 5, 5, 5, 5, 5, 5, 5, 5, 5, 5, 5, 5, 5, 5, 5, 5, 5, 5, 5, 5,\n",
              "       5, 5, 5, 5, 5, 5, 5, 5, 5, 5, 5, 5, 5, 5, 5, 5, 5, 5, 5, 5, 5, 5,\n",
              "       5, 5, 5, 5, 5, 5, 5, 5, 5, 5, 5, 5, 5, 5, 5, 5, 5, 5, 5, 5, 5, 5,\n",
              "       5, 5, 5, 5, 5, 5, 6, 6, 6, 6, 6, 6, 6, 6, 6, 6, 6, 6, 6, 6, 6, 6,\n",
              "       6, 6, 6, 6, 6, 6, 6, 6, 6, 6, 6, 6, 6, 6, 6, 6, 6, 6, 6, 6, 6, 6,\n",
              "       6, 6, 6, 6, 6, 6, 6, 6, 6, 6, 6, 6, 6, 6, 6, 6, 6, 6, 6, 6, 6, 6,\n",
              "       6, 6, 6, 6, 6, 6, 6, 6, 6, 6, 6, 6, 6, 6, 6, 6, 6, 6, 6, 6, 6, 6,\n",
              "       6, 6, 6, 6, 6, 6, 6, 6, 6, 6, 6, 6, 6, 6, 6, 6, 6, 6, 7, 7, 7, 7,\n",
              "       7, 7, 7, 7, 7, 7, 7, 7, 7, 7, 7, 7, 7, 7, 7, 7, 7, 7, 7, 7, 7, 7,\n",
              "       7, 7, 7, 7, 7, 7, 7, 7, 7, 7, 7, 7, 7, 7, 7, 7, 7, 7, 7, 7, 7, 7,\n",
              "       7, 7, 7, 7, 7, 7, 7, 7, 7, 7, 7, 7, 7, 7, 7, 7, 7, 7, 7, 7, 7, 7,\n",
              "       7, 7, 7, 7, 7, 7, 7, 7, 7, 7, 7, 7, 7, 7, 7, 7, 7, 7, 7, 7, 7, 7,\n",
              "       7, 7, 7, 7, 7, 7, 7, 7, 8, 8, 8, 8, 8, 8, 8, 8, 8, 8, 8, 8, 8, 8,\n",
              "       8, 8, 8, 8, 8, 8, 8, 8, 8, 8, 8, 8, 8, 8, 8, 8, 8, 8, 8, 8, 8, 8,\n",
              "       8, 8, 8, 8, 8, 8, 8, 8, 8, 8, 8, 8, 8, 8, 8, 8, 8, 8, 8, 8, 8, 8,\n",
              "       8, 8, 8, 8, 8, 8, 8, 8, 8, 8, 8, 8, 8, 8, 8, 8, 8, 8, 8, 8, 8, 8,\n",
              "       8, 8, 8, 8, 8, 8, 8, 8, 8, 8, 8, 8, 8, 8, 8, 8, 8, 8, 8, 8, 9, 9,\n",
              "       9, 9, 9, 9, 9, 9, 9, 9, 9, 9, 9, 9, 9, 9, 9, 9, 9, 9, 9, 9, 9, 9,\n",
              "       9, 9, 9, 9, 9, 9, 9, 9, 9, 9, 9, 9, 9, 9, 9, 9, 9, 9, 9, 9, 9, 9,\n",
              "       9, 9, 9, 9, 9, 9, 9, 9, 9, 9, 9, 9, 9, 9, 9, 9, 9, 9, 9, 9, 9, 9,\n",
              "       9, 9, 9, 9, 9, 9, 9, 9, 9, 9, 9, 9, 9, 9, 9, 9, 9, 9, 9, 9, 9, 9,\n",
              "       9, 9, 9, 9, 9, 9, 9, 9, 9, 9])"
            ]
          },
          "metadata": {},
          "execution_count": 13
        },
        {
          "output_type": "display_data",
          "data": {
            "text/plain": [
              "<Figure size 480x480 with 1 Axes>"
            ],
            "image/png": "[encoded data removed]"
          },
          "metadata": {}
        },
        {
          "output_type": "display_data",
          "data": {
            "text/plain": [
              "<Figure size 480x480 with 1 Axes>"
            ],
            "image/png": "[encoded data removed]"
          },
          "metadata": {}
        }
      ]
    },
    {
      "cell_type": "code",
      "source": [
        "# flatten the dataset i.e, change 2D to 1D\n",
        "x_rail_flat = x_train.reshape(len(x_train),32*32)\n",
        "x_test = x_test.reshape(len(x_test),32*32)\n",
        "print(x_rail_flat.shape)\n",
        "print(x_test.shape)\n",
        "x_rail_flat[0]"
      ],
      "metadata": {
        "colab": {
          "base_uri": "https://localhost:8080/"
        },
        "id": "G3PJmPifBmc2",
        "outputId": "d173f16a-3ed1-4a77-ad0f-69146579e26f"
      },
      "execution_count": 14,
      "outputs": [
        {
          "output_type": "stream",
          "name": "stdout",
          "text": [
            "(1000, 1024)\n",
            "(178, 1024)\n"
          ]
        },
        {
          "output_type": "execute_result",
          "data": {
            "text/plain": [
              "array([255, 255, 255, ..., 255, 255, 255], dtype=uint8)"
            ]
          },
          "metadata": {},
          "execution_count": 14
        }
      ]
    },
    {
      "cell_type": "code",
      "source": [
        "# creating a simple nn\n",
        "# create a dense layer where every input is connected to every other output, the number of inputs are 1000, outputs are 10\n",
        "# activation function is sigmoid\n",
        "model = keras.Sequential([\n",
        " keras.layers.Dense(10, input_shape=(1024,),activation = 'sigmoid')\n",
        "])\n",
        "# compile the nn\n",
        "model.compile(optimizer='adam',\n",
        " loss='sparse_categorical_crossentropy',\n",
        " metrics=['accuracy']\n",
        " )\n",
        "# train the model\n",
        "# 5 iterations done here\n",
        "model.fit(x_rail_flat, y_train,epochs= 5)"
      ],
      "metadata": {
        "colab": {
          "base_uri": "https://localhost:8080/"
        },
        "id": "FouuWZz1BqN6",
        "outputId": "cdc58e6e-bce1-4386-d894-48a3afcd5cb8"
      },
      "execution_count": 15,
      "outputs": [
        {
          "output_type": "stream",
          "name": "stdout",
          "text": [
            "Epoch 1/5\n",
            "32/32 [==============================] - 1s 2ms/step - loss: 158.8728 - accuracy: 0.3910\n",
            "Epoch 2/5\n",
            "32/32 [==============================] - 0s 2ms/step - loss: 25.1943 - accuracy: 0.7830\n",
            "Epoch 3/5\n",
            "32/32 [==============================] - 0s 2ms/step - loss: 11.5586 - accuracy: 0.8920\n",
            "Epoch 4/5\n",
            "32/32 [==============================] - 0s 2ms/step - loss: 7.8953 - accuracy: 0.9230\n",
            "Epoch 5/5\n",
            "32/32 [==============================] - 0s 2ms/step - loss: 7.5268 - accuracy: 0.9130\n"
          ]
        },
        {
          "output_type": "execute_result",
          "data": {
            "text/plain": [
              "<keras.callbacks.History at 0x7f14d450a2c0>"
            ]
          },
          "metadata": {},
          "execution_count": 15
        }
      ]
    },
    {
      "cell_type": "code",
      "source": [
        "# creating a simple nn\n",
        "# create a dense layer where every input is connected to every other output, the number of inputs are 1000, outputs are 10\n",
        "# activation function is sigmoid\n",
        "model = keras.Sequential([\n",
        "    keras.layers.Flatten(),\n",
        "    keras.layers.Dense(10, input_shape=(1024,),activation = 'sigmoid')\n",
        "    ])\n",
        "# compile the nn\n",
        "model.compile(optimizer='adam',\n",
        "              loss='sparse_categorical_crossentropy',\n",
        "              metrics=['accuracy']\n",
        "              )\n",
        "# train the model\n",
        "# some 10 iterations done here\n",
        "model.fit(x_train, y_train,epochs= 10, validation_data=(x_test, y_test))"
      ],
      "metadata": {
        "colab": {
          "base_uri": "https://localhost:8080/"
        },
        "id": "b_rnDTGZBtBT",
        "outputId": "e7f12a26-69f1-447d-d583-acc531d9ec6f"
      },
      "execution_count": 16,
      "outputs": [
        {
          "output_type": "stream",
          "name": "stdout",
          "text": [
            "Epoch 1/10\n",
            "32/32 [==============================] - 1s 17ms/step - loss: 153.8587 - accuracy: 0.4470 - val_loss: 75.4793 - val_accuracy: 0.5562\n",
            "Epoch 2/10\n",
            "32/32 [==============================] - 0s 4ms/step - loss: 22.0302 - accuracy: 0.8040 - val_loss: 29.7457 - val_accuracy: 0.7360\n",
            "Epoch 3/10\n",
            "32/32 [==============================] - 0s 5ms/step - loss: 13.3466 - accuracy: 0.8840 - val_loss: 29.1607 - val_accuracy: 0.7584\n",
            "Epoch 4/10\n",
            "32/32 [==============================] - 0s 5ms/step - loss: 8.9165 - accuracy: 0.9050 - val_loss: 26.0304 - val_accuracy: 0.8034\n",
            "Epoch 5/10\n",
            "32/32 [==============================] - 0s 4ms/step - loss: 7.8976 - accuracy: 0.9070 - val_loss: 19.0821 - val_accuracy: 0.8427\n",
            "Epoch 6/10\n",
            "32/32 [==============================] - 0s 4ms/step - loss: 6.1221 - accuracy: 0.9270 - val_loss: 20.1394 - val_accuracy: 0.8652\n",
            "Epoch 7/10\n",
            "32/32 [==============================] - 0s 4ms/step - loss: 2.5015 - accuracy: 0.9570 - val_loss: 21.0540 - val_accuracy: 0.8371\n",
            "Epoch 8/10\n",
            "32/32 [==============================] - 0s 5ms/step - loss: 2.0394 - accuracy: 0.9650 - val_loss: 15.8843 - val_accuracy: 0.8933\n",
            "Epoch 9/10\n",
            "32/32 [==============================] - 0s 6ms/step - loss: 1.3469 - accuracy: 0.9730 - val_loss: 14.3751 - val_accuracy: 0.9045\n",
            "Epoch 10/10\n",
            "32/32 [==============================] - 0s 4ms/step - loss: 0.3960 - accuracy: 0.9880 - val_loss: 17.6925 - val_accuracy: 0.8764\n"
          ]
        },
        {
          "output_type": "execute_result",
          "data": {
            "text/plain": [
              "<keras.callbacks.History at 0x7f14cc38f2b0>"
            ]
          },
          "metadata": {},
          "execution_count": 16
        }
      ]
    },
    {
      "cell_type": "code",
      "source": [
        "# Observation : we see a better accuracy from the 2nd iteration"
      ],
      "metadata": {
        "id": "WlLPupHmByaE"
      },
      "execution_count": 17,
      "outputs": []
    },
    {
      "cell_type": "code",
      "source": [
        "# now scale and try to check the accuracy, divide dataset by 255\n",
        "x_train_scaled = x_train/255\n",
        "x_test_scaled = x_test/255\n",
        "model.fit(x_train_scaled, y_train,epochs= 10, validation_data=(x_test_scaled, y_test))"
      ],
      "metadata": {
        "colab": {
          "base_uri": "https://localhost:8080/"
        },
        "id": "uZTFWWvVB2Ye",
        "outputId": "acdcf132-d160-4e9f-fd8e-bf11972b13d8"
      },
      "execution_count": 18,
      "outputs": [
        {
          "output_type": "stream",
          "name": "stdout",
          "text": [
            "Epoch 1/10\n",
            "32/32 [==============================] - 1s 8ms/step - loss: 0.7864 - accuracy: 0.8860 - val_loss: 1.0985 - val_accuracy: 0.7247\n",
            "Epoch 2/10\n",
            "32/32 [==============================] - 0s 4ms/step - loss: 0.7614 - accuracy: 0.9080 - val_loss: 1.0362 - val_accuracy: 0.8034\n",
            "Epoch 3/10\n",
            "32/32 [==============================] - 0s 3ms/step - loss: 0.7182 - accuracy: 0.9540 - val_loss: 1.0014 - val_accuracy: 0.8539\n",
            "Epoch 4/10\n",
            "32/32 [==============================] - 0s 4ms/step - loss: 0.6934 - accuracy: 0.9750 - val_loss: 0.9810 - val_accuracy: 0.8708\n",
            "Epoch 5/10\n",
            "32/32 [==============================] - 0s 4ms/step - loss: 0.6780 - accuracy: 0.9890 - val_loss: 0.9674 - val_accuracy: 0.8876\n",
            "Epoch 6/10\n",
            "32/32 [==============================] - 0s 3ms/step - loss: 0.6668 - accuracy: 0.9920 - val_loss: 0.9572 - val_accuracy: 0.8876\n",
            "Epoch 7/10\n",
            "32/32 [==============================] - 0s 4ms/step - loss: 0.6579 - accuracy: 0.9950 - val_loss: 0.9490 - val_accuracy: 0.8933\n",
            "Epoch 8/10\n",
            "32/32 [==============================] - 0s 3ms/step - loss: 0.6506 - accuracy: 0.9950 - val_loss: 0.9418 - val_accuracy: 0.8876\n",
            "Epoch 9/10\n",
            "32/32 [==============================] - 0s 3ms/step - loss: 0.6433 - accuracy: 0.9940 - val_loss: 0.9354 - val_accuracy: 0.8876\n",
            "Epoch 10/10\n",
            "32/32 [==============================] - 0s 4ms/step - loss: 0.6369 - accuracy: 0.9940 - val_loss: 0.9282 - val_accuracy: 0.8820\n"
          ]
        },
        {
          "output_type": "execute_result",
          "data": {
            "text/plain": [
              "<keras.callbacks.History at 0x7f14cc2e5420>"
            ]
          },
          "metadata": {},
          "execution_count": 18
        }
      ]
    },
    {
      "cell_type": "code",
      "source": [
        "# Observation : we got better result for all iterations on scaling the training dataset"
      ],
      "metadata": {
        "id": "5hz5kv4xB-kv"
      },
      "execution_count": 19,
      "outputs": []
    },
    {
      "cell_type": "code",
      "source": [
        "# evaluate test dataset\n",
        "model.evaluate(x_test_scaled,y_test)"
      ],
      "metadata": {
        "colab": {
          "base_uri": "https://localhost:8080/"
        },
        "id": "iNiu5qTXCBdP",
        "outputId": "f54c32f9-09a1-4b40-9dff-1179a74d20da"
      },
      "execution_count": 20,
      "outputs": [
        {
          "output_type": "stream",
          "name": "stdout",
          "text": [
            "6/6 [==============================] - 0s 4ms/step - loss: 0.9282 - accuracy: 0.8820\n"
          ]
        },
        {
          "output_type": "execute_result",
          "data": {
            "text/plain": [
              "[0.9281949400901794, 0.882022500038147]"
            ]
          },
          "metadata": {},
          "execution_count": 20
        }
      ]
    },
    {
      "cell_type": "code",
      "source": [
        "# Still there are some errors\n",
        "# we need to modify our nn, we add some layers in the above model and different activation function"
      ],
      "metadata": {
        "id": "O7_hHIHjCDoJ"
      },
      "execution_count": 21,
      "outputs": []
    },
    {
      "cell_type": "code",
      "source": [
        "# in 1st Dense layer,the input is 32 x 32 = 1024 neurons, which will give 10 output(numbers from 0 to 9)\n",
        "# 2nd Dense layer,the input is 10 neurons from above layers output\n",
        "# we can add more layers for accuracy\n",
        "model2 = keras.Sequential([\n",
        "    keras.layers.Flatten(),\n",
        "    keras.layers.Dense(1024,input_shape=(1024,), activation='relu'),\n",
        "    keras.layers.Dense(10, activation='softmax')\n",
        "    ])\n",
        "# compile the nn\n",
        "model2.compile(optimizer='adam',\n",
        "              loss='sparse_categorical_crossentropy',\n",
        "              metrics=['accuracy']\n",
        "              )\n",
        "# train the model\n",
        "# some 10 iterations done here\n",
        "history = model2.fit(x_train_scaled, y_train,epochs= 10, validation_data=(x_test_scaled, y_test))"
      ],
      "metadata": {
        "colab": {
          "base_uri": "https://localhost:8080/"
        },
        "id": "t8jvPLFhCF6u",
        "outputId": "6d1888d4-222e-4cb4-b940-f303e679fccd"
      },
      "execution_count": 22,
      "outputs": [
        {
          "output_type": "stream",
          "name": "stdout",
          "text": [
            "Epoch 1/10\n",
            "32/32 [==============================] - 2s 32ms/step - loss: 1.4839 - accuracy: 0.6280 - val_loss: 0.8621 - val_accuracy: 0.7584\n",
            "Epoch 2/10\n",
            "32/32 [==============================] - 1s 24ms/step - loss: 0.2255 - accuracy: 0.9250 - val_loss: 0.2870 - val_accuracy: 0.9157\n",
            "Epoch 3/10\n",
            "32/32 [==============================] - 1s 21ms/step - loss: 0.1126 - accuracy: 0.9700 - val_loss: 0.2051 - val_accuracy: 0.9494\n",
            "Epoch 4/10\n",
            "32/32 [==============================] - 0s 16ms/step - loss: 0.0745 - accuracy: 0.9800 - val_loss: 0.2847 - val_accuracy: 0.9101\n",
            "Epoch 5/10\n",
            "32/32 [==============================] - 1s 18ms/step - loss: 0.0834 - accuracy: 0.9780 - val_loss: 0.3117 - val_accuracy: 0.9270\n",
            "Epoch 6/10\n",
            "32/32 [==============================] - 1s 17ms/step - loss: 0.0396 - accuracy: 0.9910 - val_loss: 0.2106 - val_accuracy: 0.9438\n",
            "Epoch 7/10\n",
            "32/32 [==============================] - 1s 16ms/step - loss: 0.0306 - accuracy: 0.9960 - val_loss: 0.1863 - val_accuracy: 0.9438\n",
            "Epoch 8/10\n",
            "32/32 [==============================] - 1s 18ms/step - loss: 0.0183 - accuracy: 1.0000 - val_loss: 0.2169 - val_accuracy: 0.9382\n",
            "Epoch 9/10\n",
            "32/32 [==============================] - 1s 16ms/step - loss: 0.0193 - accuracy: 0.9980 - val_loss: 0.1874 - val_accuracy: 0.9494\n",
            "Epoch 10/10\n",
            "32/32 [==============================] - 1s 17ms/step - loss: 0.0100 - accuracy: 1.0000 - val_loss: 0.1925 - val_accuracy: 0.9494\n"
          ]
        }
      ]
    },
    {
      "cell_type": "code",
      "source": [
        "# Observation : due to multiple layers the compiling will take more time to execute\n",
        "# we also got amazing accuracy than earlier\n",
        "# evaluate test dataset on modified model\n",
        "model2.evaluate(x_test_scaled,y_test)"
      ],
      "metadata": {
        "colab": {
          "base_uri": "https://localhost:8080/"
        },
        "id": "Nt6vep0ZCIvc",
        "outputId": "159a6054-50d2-4277-ac7e-2b572dd58b9e"
      },
      "execution_count": 23,
      "outputs": [
        {
          "output_type": "stream",
          "name": "stdout",
          "text": [
            "6/6 [==============================] - 0s 5ms/step - loss: 0.1925 - accuracy: 0.9494\n"
          ]
        },
        {
          "output_type": "execute_result",
          "data": {
            "text/plain": [
              "[0.1924905627965927, 0.949438214302063]"
            ]
          },
          "metadata": {},
          "execution_count": 23
        }
      ]
    },
    {
      "cell_type": "code",
      "source": [
        "# build confusion matrix to see how our prediction looks like\n",
        "# convert to concrete values\n",
        "y_predicted = model2.predict(x_test_scaled)\n",
        "y_predicted[0]\n",
        "y_predicted_labels=[np.argmax(i) for i in y_predicted]\n",
        "print(y_predicted_labels, len(y_predicted_labels))\n",
        "conf_mat = tf.math.confusion_matrix(labels=y_test, predictions=y_predicted_labels)\n",
        "conf_mat"
      ],
      "metadata": {
        "colab": {
          "base_uri": "https://localhost:8080/"
        },
        "id": "nQ4L2eiWCLmB",
        "outputId": "2697099b-14ca-4e8f-e0a0-ab648a5313eb"
      },
      "execution_count": 24,
      "outputs": [
        {
          "output_type": "stream",
          "name": "stdout",
          "text": [
            "6/6 [==============================] - 0s 4ms/step\n",
            "[0, 0, 0, 0, 0, 0, 0, 8, 0, 0, 0, 0, 0, 0, 0, 0, 0, 0, 7, 1, 1, 1, 7, 1, 1, 1, 1, 1, 1, 7, 1, 1, 1, 1, 2, 2, 2, 2, 9, 2, 2, 2, 2, 2, 4, 2, 5, 2, 2, 2, 2, 3, 3, 3, 3, 3, 3, 3, 3, 3, 3, 3, 3, 3, 3, 3, 3, 3, 4, 4, 4, 4, 4, 4, 4, 4, 4, 4, 4, 4, 4, 4, 4, 4, 4, 4, 5, 5, 5, 5, 5, 5, 5, 5, 5, 5, 5, 5, 5, 5, 5, 5, 5, 5, 6, 6, 6, 6, 6, 6, 6, 6, 6, 6, 6, 6, 6, 6, 6, 6, 6, 6, 7, 1, 7, 7, 7, 7, 7, 7, 1, 7, 7, 7, 7, 7, 7, 7, 7, 7, 8, 8, 8, 8, 8, 8, 8, 8, 8, 8, 8, 8, 8, 8, 8, 8, 8, 8, 9, 9, 9, 9, 9, 9, 9, 9, 9, 9, 9, 9, 9, 9, 9, 9, 9, 9, 9, 9] 178\n"
          ]
        },
        {
          "output_type": "execute_result",
          "data": {
            "text/plain": [
              "<tf.Tensor: shape=(10, 10), dtype=int32, numpy=\n",
              "array([[17,  0,  0,  0,  0,  0,  0,  0,  1,  0],\n",
              "       [ 0, 13,  0,  0,  0,  0,  0,  3,  0,  0],\n",
              "       [ 0,  0, 14,  0,  1,  1,  0,  0,  0,  1],\n",
              "       [ 0,  0,  0, 17,  0,  0,  0,  0,  0,  0],\n",
              "       [ 0,  0,  0,  0, 18,  0,  0,  0,  0,  0],\n",
              "       [ 0,  0,  0,  0,  0, 18,  0,  0,  0,  0],\n",
              "       [ 0,  0,  0,  0,  0,  0, 18,  0,  0,  0],\n",
              "       [ 0,  2,  0,  0,  0,  0,  0, 16,  0,  0],\n",
              "       [ 0,  0,  0,  0,  0,  0,  0,  0, 18,  0],\n",
              "       [ 0,  0,  0,  0,  0,  0,  0,  0,  0, 20]], dtype=int32)>"
            ]
          },
          "metadata": {},
          "execution_count": 24
        }
      ]
    },
    {
      "cell_type": "code",
      "source": [
        "import seaborn as sn\n",
        "plt.figure(figsize = (10,10))\n",
        "sn.heatmap(conf_mat,annot=True,fmt='d')\n",
        "plt.xlabel('Predicted')\n",
        "plt.ylabel('Actual')"
      ],
      "metadata": {
        "colab": {
          "base_uri": "https://localhost:8080/",
          "height": 872
        },
        "id": "7v5R1CE3CN9y",
        "outputId": "453ac441-5373-4bd0-cae1-e34cf0faee72"
      },
      "execution_count": 25,
      "outputs": [
        {
          "output_type": "execute_result",
          "data": {
            "text/plain": [
              "Text(95.72222222222221, 0.5, 'Actual')"
            ]
          },
          "metadata": {},
          "execution_count": 25
        },
        {
          "output_type": "display_data",
          "data": {
            "text/plain": [
              "<Figure size 1000x1000 with 2 Axes>"
            ],
            "image/png": "[encoded data removed]"
          },
          "metadata": {}
        }
      ]
    },
    {
      "cell_type": "code",
      "source": [
        "# Evaluate the model\n",
        "test_loss, test_acc = model.evaluate(x_test, y_test)\n",
        "print('Test accuracy:', test_acc)\n",
        "# Plot the training and validation accuracy\n",
        "plt.plot(history.history['accuracy'])\n",
        "plt.plot(history.history['val_accuracy'])\n",
        "plt.title('Model accuracy')\n",
        "plt.ylabel('Accuracy')\n",
        "plt.xlabel('Epoch')\n",
        "plt.legend(['Train', 'Validation'], loc='upper left')\n",
        "plt.show()"
      ],
      "metadata": {
        "colab": {
          "base_uri": "https://localhost:8080/",
          "height": 507
        },
        "id": "4KrwGqh9CQ7P",
        "outputId": "10e52763-5ace-4ffd-aa2f-c74f4facf73c"
      },
      "execution_count": 26,
      "outputs": [
        {
          "output_type": "stream",
          "name": "stdout",
          "text": [
            "6/6 [==============================] - 0s 4ms/step - loss: 17.2994 - accuracy: 0.8876\n",
            "Test accuracy: 0.8876404762268066\n"
          ]
        },
        {
          "output_type": "display_data",
          "data": {
            "text/plain": [
              "<Figure size 640x480 with 1 Axes>"
            ],
            "image/png": "[encoded data removed]"
          },
          "metadata": {}
        }
      ]
    },
    {
      "cell_type": "code",
      "source": [],
      "metadata": {
        "id": "JOzuZyEaCTeo"
      },
      "execution_count": null,
      "outputs": []
    }
  ]
}